{
 "cells": [
  {
   "cell_type": "code",
   "execution_count": null,
   "metadata": {},
   "outputs": [],
   "source": [
    "!py -m pip install -r requirements.txt"
   ]
  },
  {
   "cell_type": "code",
   "execution_count": null,
   "metadata": {},
   "outputs": [],
   "source": [
    "import torch\n",
    "import torchvision\n",
    "import torch.nn as nn\n",
    "\n",
    "print(\"using PyTorch : {}\".format(torch.__version__))\n",
    "print(\"using TorchVision : {}\".format(torchvision.__version__))"
   ]
  },
  {
   "cell_type": "code",
   "execution_count": null,
   "metadata": {},
   "outputs": [],
   "source": [
    "class LeNet5(nn.Module):\n",
    "\n",
    "    def __init__(self):\n",
    "\n",
    "        super().__init__()\n",
    "\n",
    "        self.convnet = torch.nn.Sequential(\n",
    "            \n",
    "            # First Convolution Block \n",
    "            nn.Conv2d(in_channels = 1, out_channels = 6, kernel_size = (5, 5), stride = 1, bias = True),\n",
    "            nn.ReLU(), # Note : Yann LeCun's original paper did not use ReLU\n",
    "            nn.MaxPool2d(kernel_size = (2, 2), stride = 2),\n",
    "\n",
    "            # Second Convolution Block \n",
    "            nn.Conv2d(in_channels = 6, out_channels = 16, kernel_size = (5, 5), stride = 1, bias = True),\n",
    "            nn.ReLU(), \n",
    "            nn.MaxPool2d(kernel_size = (2, 2), stride = 2),\n",
    " \n",
    "            # Third Convolution Block \n",
    "            nn.Conv2d(in_channels = 16, out_channels = 120, kernel_size = (5, 5), stride = 1, bias = True),\n",
    "            nn.ReLU(), \n",
    "            nn.MaxPool2d(kernel_size = (2, 2), stride = 2)\n",
    "\n",
    "        )\n",
    "\n",
    "        self.feedforward = nn.Sequential(\n",
    "\n",
    "            # Fully Connected Layer\n",
    "            nn.Linear(in_features = 120, out_features = 72, bias = True),\n",
    "            nn.ReLU(),\n",
    "\n",
    "            # Classification Layer\n",
    "            nn.Linear(in_features = 72, out_features = 10, bias = True),\n",
    "            nn.Softmax(dim = 1)\n",
    "\n",
    "        )\n",
    "\n",
    "    def forward(self, input):\n",
    "\n",
    "        output = self.convnet(input)\n",
    "        output = output.view(input.size(0), -1) # reducing dimension from 3d to 2d (same as using 'flatten' in keras / tensorflow)\n",
    "        output = self.feedforward(output)\n",
    "\n",
    "        return output"
   ]
  },
  {
   "cell_type": "code",
   "execution_count": null,
   "metadata": {},
   "outputs": [],
   "source": []
  }
 ],
 "metadata": {
  "kernelspec": {
   "display_name": "Python 3",
   "language": "python",
   "name": "python3"
  },
  "language_info": {
   "codemirror_mode": {
    "name": "ipython",
    "version": 3
   },
   "file_extension": ".py",
   "mimetype": "text/x-python",
   "name": "python",
   "nbconvert_exporter": "python",
   "pygments_lexer": "ipython3",
   "version": "3.11.6"
  }
 },
 "nbformat": 4,
 "nbformat_minor": 2
}
